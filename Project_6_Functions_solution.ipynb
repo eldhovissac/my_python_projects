{
 "cells": [
  {
   "cell_type": "code",
   "execution_count": 1,
   "id": "54371239",
   "metadata": {},
   "outputs": [
    {
     "name": "stdout",
     "output_type": "stream",
     "text": [
      "7\n"
     ]
    }
   ],
   "source": [
    "#Q1 Write Python function that takes two inputs\n",
    "#and return their sum value\n",
    "\n",
    "def function(a,b):\n",
    "    return(a+b)\n",
    "\n",
    "c = function(3,4)\n",
    "print(c)"
   ]
  },
  {
   "cell_type": "code",
   "execution_count": 2,
   "id": "a6ebf097",
   "metadata": {},
   "outputs": [
    {
     "name": "stdout",
     "output_type": "stream",
     "text": [
      "73.4\n"
     ]
    }
   ],
   "source": [
    "#Q2 Write Python function the takes a celsius temprature\n",
    "#and converts it into fahrenheit\n",
    "\n",
    "def fah(cel):\n",
    "    fah_v = (cel * 1.8) + 32\n",
    "    return fah_v\n",
    "\n",
    "fah_v_r=fah(23)\n",
    "print(fah_v_r)"
   ]
  },
  {
   "cell_type": "code",
   "execution_count": 3,
   "id": "9604d5ed",
   "metadata": {},
   "outputs": [
    {
     "name": "stdout",
     "output_type": "stream",
     "text": [
      "b is max\n"
     ]
    }
   ],
   "source": [
    "#Q3 Write a Python function to find the Max of three numbers\n",
    "\n",
    "def max(a,b,c):\n",
    "    if(a>b and a>c):\n",
    "        str1=\"a is max\"\n",
    "        return str1\n",
    "    elif(b>a and b>c):\n",
    "        str1=\"b is max\"\n",
    "        return str1\n",
    "    else:\n",
    "        str1=\"c is max\"\n",
    "        return str1\n",
    "    \n",
    "print(max(3,6,2))"
   ]
  },
  {
   "cell_type": "code",
   "execution_count": 4,
   "id": "9d2826ea",
   "metadata": {},
   "outputs": [
    {
     "name": "stdout",
     "output_type": "stream",
     "text": [
      "7\n",
      "The number is outside the given range.\n"
     ]
    }
   ],
   "source": [
    "#Q4 Write a Python function to check whether a number\n",
    "#is in a given range [5,12]\n",
    "\n",
    "def test_range(n):\n",
    "    i=0\n",
    "    t=int(n)\n",
    "    for n1 in range(5,12):\n",
    "        if(n1==t):\n",
    "            print( \" %s is in the range\"%str(t))\n",
    "            break;\n",
    "        else:\n",
    "            print(\"The number is outside the given range.\")\n",
    "            break;\n",
    "        \n",
    "x=input()\n",
    "test_range(x)"
   ]
  },
  {
   "cell_type": "code",
   "execution_count": 5,
   "id": "e891de83",
   "metadata": {},
   "outputs": [
    {
     "name": "stdout",
     "output_type": "stream",
     "text": [
      "[1, 2, 3, 4, 5]\n"
     ]
    }
   ],
   "source": [
    "#Q5 Write a Python function that takes a list\n",
    "#and returns a new list with unique elements of the first\n",
    "#Sample_List : [1,2,3,3,3,3,4,5]\n",
    "\n",
    "def unique_list(l):\n",
    "  x = []\n",
    "  for a in l:\n",
    "    if a not in x:\n",
    "      x.append(a)\n",
    "  return x\n",
    "\n",
    "print(unique_list([1,2,3,3,3,3,4,5]))"
   ]
  },
  {
   "cell_type": "code",
   "execution_count": 6,
   "id": "2761b533",
   "metadata": {},
   "outputs": [
    {
     "name": "stdout",
     "output_type": "stream",
     "text": [
      "True\n"
     ]
    }
   ],
   "source": [
    "#Q6 Given a list of numbers, return True if first\n",
    "#and last number of a list is same\n",
    "#list1=[1,2,5,4,1]\n",
    "#list2=[5,6,3,2,1]\n",
    "#list3=[88,44,55,66,77,88]\n",
    "\n",
    "def list1(x):\n",
    "    y = len(x)\n",
    "    str1=\"False\"\n",
    "    if x[0] == x[y-1]:\n",
    "        str1=\"True\"\n",
    "    return str1\n",
    "\n",
    "print(list1([1,2,5,4,1]))"
   ]
  },
  {
   "cell_type": "code",
   "execution_count": null,
   "id": "8a16e0a6",
   "metadata": {},
   "outputs": [],
   "source": []
  }
 ],
 "metadata": {
  "kernelspec": {
   "display_name": "Python 3 (ipykernel)",
   "language": "python",
   "name": "python3"
  },
  "language_info": {
   "codemirror_mode": {
    "name": "ipython",
    "version": 3
   },
   "file_extension": ".py",
   "mimetype": "text/x-python",
   "name": "python",
   "nbconvert_exporter": "python",
   "pygments_lexer": "ipython3",
   "version": "3.9.12"
  }
 },
 "nbformat": 4,
 "nbformat_minor": 5
}
